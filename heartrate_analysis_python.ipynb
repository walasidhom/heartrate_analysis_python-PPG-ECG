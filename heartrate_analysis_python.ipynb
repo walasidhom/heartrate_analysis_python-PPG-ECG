{
  "nbformat": 4,
  "nbformat_minor": 0,
  "metadata": {
    "colab": {
      "name": "heartrate_analysis_python.ipynb",
      "private_outputs": true,
      "provenance": [],
      "toc_visible": true
    },
    "kernelspec": {
      "name": "python3",
      "display_name": "Python 3"
    }
  },
  "cells": [
    {
      "cell_type": "markdown",
      "metadata": {
        "id": "QtBSLruKGM-w"
      },
      "source": [
        "### **Analysing a PPG signal**\r\n",
        "\r\n",
        "---\r\n",
        "\r\n",
        "\r\n",
        "**PPG:** Photoplethysmogram: \r\n",
        "*   Optically obtained.\r\n",
        "*   Plethysmogram is used to detect blood volume changes.\r\n",
        "\r\n",
        "---\r\n",
        "\r\n",
        "\r\n",
        "\r\n",
        "\r\n",
        "\r\n",
        "\r\n"
      ]
    },
    {
      "cell_type": "markdown",
      "metadata": {
        "id": "m03ZWTbozosx"
      },
      "source": [
        "First of all, we have to install heartpy database."
      ]
    },
    {
      "cell_type": "code",
      "metadata": {
        "id": "4aJj-A3DmA2u"
      },
      "source": [
        "pip install heartpy"
      ],
      "execution_count": null,
      "outputs": []
    },
    {
      "cell_type": "code",
      "metadata": {
        "id": "pjZDb8s6z43M"
      },
      "source": [
        "#imports\r\n",
        "import heartpy as hp\r\n",
        "import matplotlib.pyplot as plt"
      ],
      "execution_count": null,
      "outputs": []
    },
    {
      "cell_type": "markdown",
      "metadata": {
        "id": "wDYpxhUo2Cym"
      },
      "source": [
        "### **load_exampledata()** :\r\n",
        "\r\n",
        "\r\n",
        "> Function to load one of the example datasets included in HeartPy.\r\n",
        "\r\n",
        "> ***Parameters:***\r\n",
        "* **0 :** a short, very clean PPG signal, sampled at 100.0 Hz\r\n",
        "*   **1 :** a slightly longer (~2 minute) PPG signal, with missing signal in first third, and random noise spikes in rest of signal\r\n",
        "* **2 :** a long (~11.5 minute) PPG signal recorded 'in the wild' while driving in a driving simulator using a Pulse Sensor on the index finger and an Arduino\r\n",
        "\r\n",
        "\r\n",
        "> ***Returns:*** (tuple of two arrays) Contains the **data** and **timer** column. If no timer data is available, such as in example 0, an empty second array is returned.\r\n",
        "\r\n",
        "\r\n",
        "\r\n",
        "\r\n",
        "\r\n",
        "\r\n",
        "\r\n",
        "\r\n",
        "\r\n"
      ]
    },
    {
      "cell_type": "code",
      "metadata": {
        "id": "Dt2jx8xK8Jq2"
      },
      "source": [
        "#loading the clean PPG signal (0)\r\n",
        "data, timer = hp.load_exampledata(0)\r\n",
        "\r\n",
        "#visualisation\r\n",
        "plt.figure(figsize=(12,4))\r\n",
        "plt.plot(data)\r\n",
        "plt.show()"
      ],
      "execution_count": null,
      "outputs": []
    },
    {
      "cell_type": "markdown",
      "metadata": {
        "id": "wVwIDYI0BKys"
      },
      "source": [
        "\r\n",
        "### **hp.process()**\r\n",
        "> ***Returns:***\r\n",
        "* working_data (dict) – dictionary object used to store temporary values.\r\n",
        "* measures (dict) – dictionary object used by heartpy to store computed measures."
      ]
    },
    {
      "cell_type": "code",
      "metadata": {
        "id": "danrngFI_e3j"
      },
      "source": [
        "wd, m = hp.process(data, sample_rate = 100.0)"
      ],
      "execution_count": null,
      "outputs": []
    },
    {
      "cell_type": "markdown",
      "metadata": {
        "id": "_WH4dkDoDWJy"
      },
      "source": [
        "### **hp.plotter()**\r\n",
        "\r\n",
        "> Function that uses calculated measures and data stored in the working_data{} and measures{} dict objects to visualise the fitted peak detection solution.\r\n",
        "\r\n",
        "> ***Returns:*** matplotlib plot object.\r\n",
        "\r\n",
        "\r\n",
        "\r\n"
      ]
    },
    {
      "cell_type": "code",
      "metadata": {
        "id": "DdnWEkgJEy1s"
      },
      "source": [
        "#set large figure\r\n",
        "plt.figure(figsize=(12,4))\r\n",
        "\r\n",
        "#call plotter\r\n",
        "hp.plotter(wd, m)\r\n",
        "\r\n",
        "#display measures computed\r\n",
        "for measure in m.keys():\r\n",
        "    print('%s: %f' %(measure, m[measure]))"
      ],
      "execution_count": null,
      "outputs": []
    },
    {
      "cell_type": "markdown",
      "metadata": {
        "id": "Hdp68T3dOsRM"
      },
      "source": [
        "### **Measures**\r\n",
        ">* **BPM:** beats per minute \r\n",
        "* **IBI:** the mean inter-beat interval. \r\n",
        "* **SDNN:** the standard deviation of intervals between heart beats.\r\n",
        "* **SDSD:** the standard deviation of successive differences between neighbouring heart beat intervals.\r\n",
        "* **RMSSD:** the root mean square of successive differences between neighbouring heart beat intervals.\r\n",
        "* **pNN50, pNN20:** the proportion of differences between successive  heart beats greater than 50ms and 20ms.\r\n",
        "* **hr_mad:** the median absolute deviation of intervals between heart beats.\r\n"
      ]
    },
    {
      "cell_type": "code",
      "metadata": {
        "id": "-NMuB6xTWP0K"
      },
      "source": [
        "#loading the second dataset included with HeartPy and exploring it:\r\n",
        "data, timer = hp.load_exampledata(1)\r\n",
        "plt.figure(figsize=(12,4))\r\n",
        "plt.plot(data)\r\n",
        "plt.show()"
      ],
      "execution_count": null,
      "outputs": []
    },
    {
      "cell_type": "markdown",
      "metadata": {
        "id": "3c8hJthZWiOO"
      },
      "source": [
        "There's no signal in the beginning. After the signal commences there's a few noise spikes then the sensor is forcefully moved while recording. This imitates what may happen when recording 'in the wild' as well if the participant moves and accidentally tugs at a sensor cable.\r\n",
        "\r\n",
        "HeartPy is designed to handle this sort of thing out of the box."
      ]
    },
    {
      "cell_type": "code",
      "metadata": {
        "id": "AitUG2whXXBm"
      },
      "source": [
        "sample_rate = hp.get_samplerate_mstimer(timer)\r\n",
        "print('sample rate is: %f Hz' %sample_rate)"
      ],
      "execution_count": null,
      "outputs": []
    },
    {
      "cell_type": "markdown",
      "metadata": {
        "id": "-gjFx50lYzQB"
      },
      "source": [
        "The sample_rate was computed from a timer column (that was in ms values). \r\n",
        "\r\n",
        "This is important beforehand since we didn't know with what sample_rate the signal was sampled. All measures depend on knowing the sample rate.\r\n"
      ]
    },
    {
      "cell_type": "code",
      "metadata": {
        "id": "R2LngEKTY3Lc"
      },
      "source": [
        "wd, m = hp.process(data, sample_rate)\r\n",
        "\r\n",
        "#plot\r\n",
        "plt.figure(figsize=(12,4))\r\n",
        "hp.plotter(wd, m)\r\n",
        "\r\n",
        "#display measures computed\r\n",
        "for measure in m.keys():\r\n",
        "    print('%s: %f' %(measure, m[measure]))"
      ],
      "execution_count": null,
      "outputs": []
    },
    {
      "cell_type": "markdown",
      "metadata": {
        "id": "KNvrtgXZaKs7"
      },
      "source": [
        "HeartPy comes with two functions: **hp.get_samplerate_mstimer()** that computes sample rate based on a ms-timer, and **hp.get_samplerate_datetime()**, that computes sample_rate based on a column in datetime values."
      ]
    },
    {
      "cell_type": "code",
      "metadata": {
        "id": "b-oOBpQjaHbe"
      },
      "source": [
        "#loading the second dataset included with HeartPy and exploring it:\r\n",
        "data, timer = hp.load_exampledata(2)\r\n",
        "print(timer[0])"
      ],
      "execution_count": null,
      "outputs": []
    },
    {
      "cell_type": "markdown",
      "metadata": {
        "id": "yXSkQjfPocGg"
      },
      "source": [
        "When computing the sample rate we need to give get_samplerate_datetime() the format of the string (by default it expects HH:MM:SS.ms):"
      ]
    },
    {
      "cell_type": "code",
      "metadata": {
        "id": "WPwo0wlFoRqu"
      },
      "source": [
        "sample_rate = hp.get_samplerate_datetime(timer, timeformat='%Y-%m-%d %H:%M:%S.%f')\r\n",
        "\r\n",
        "print('sample rate is: %f Hz' %sample_rate)"
      ],
      "execution_count": null,
      "outputs": []
    },
    {
      "cell_type": "code",
      "metadata": {
        "id": "bInNLNcTok3d"
      },
      "source": [
        "wd, m = hp.process(data, sample_rate, report_time = True)\r\n",
        "\r\n",
        "#plot\r\n",
        "plt.figure(figsize=(12,4))\r\n",
        "hp.plotter(wd, m)\r\n",
        "\r\n",
        "#let's zoom in on a bit\r\n",
        "plt.figure(figsize=(12,4))\r\n",
        "plt.xlim(20000, 30000)\r\n",
        "hp.plotter(wd, m)\r\n",
        "\r\n",
        "#display measures computed\r\n",
        "for measure in m.keys():\r\n",
        "    print('%s: %f' %(measure, m[measure]))"
      ],
      "execution_count": null,
      "outputs": []
    },
    {
      "cell_type": "markdown",
      "metadata": {
        "id": "t-mhgweIpVgO"
      },
      "source": [
        "### **Analysing a regular ECG signal**\r\n",
        "\r\n",
        "---\r\n",
        "\r\n",
        "\r\n",
        "**ECG:** Electrocardiagram: \r\n",
        "*   records the electrical signals in your heart.\r\n",
        "\r\n",
        "---\r\n"
      ]
    },
    {
      "cell_type": "code",
      "metadata": {
        "id": "39C3AxuVoo4F"
      },
      "source": [
        "#import packages\r\n",
        "import heartpy as hp\r\n",
        "import matplotlib.pyplot as plt\r\n",
        "\r\n",
        "sample_rate = 250"
      ],
      "execution_count": null,
      "outputs": []
    },
    {
      "cell_type": "code",
      "metadata": {
        "id": "o0GFGI33rDD9"
      },
      "source": [
        "data = hp.get_data('e0103.csv')\r\n",
        "\r\n",
        "plt.figure(figsize=(12,4))\r\n",
        "plt.plot(data)\r\n",
        "plt.show()"
      ],
      "execution_count": null,
      "outputs": []
    },
    {
      "cell_type": "code",
      "metadata": {
        "id": "LKnNt2G6vJr6"
      },
      "source": [
        "#run analysis\r\n",
        "wd, m = hp.process(data, sample_rate)\r\n",
        "\r\n",
        "#visualise in plot of custom size\r\n",
        "plt.figure(figsize=(12,4))\r\n",
        "hp.plotter(wd, m)\r\n",
        "\r\n",
        "#display computed measures\r\n",
        "for measure in m.keys():\r\n",
        "    print('%s: %f' %(measure, m[measure]))"
      ],
      "execution_count": null,
      "outputs": []
    },
    {
      "cell_type": "code",
      "metadata": {
        "id": "vxPcxCVJvYB5"
      },
      "source": [
        "data = hp.get_data('e0110.csv')\r\n",
        "\r\n",
        "plt.figure(figsize=(12,4))\r\n",
        "plt.plot(data)\r\n",
        "plt.show()\r\n",
        "\r\n",
        "#and zoom in a bit\r\n",
        "plt.figure(figsize=(12,4))\r\n",
        "plt.plot(data[0:2500])\r\n",
        "plt.show()"
      ],
      "execution_count": null,
      "outputs": []
    },
    {
      "cell_type": "markdown",
      "metadata": {
        "id": "tDcQoUltKkg9"
      },
      "source": [
        "We have an issue where the T-wave (the broad wave right after the main QRS complex) is present. We can filter this using a notch filter, as we're interested in the QRS comples.\r\n",
        "\r\n",
        "What the notch filter does is apply a frequency filter to a very narrow frequency range, allowing us to get rid of some things without disturbing the QRS complexes."
      ]
    },
    {
      "cell_type": "code",
      "metadata": {
        "id": "v1nrcZmVv2jq"
      },
      "source": [
        "filtered = hp.filter_signal(data, cutoff = 0.05, sample_rate = sample_rate, filtertype='notch')\r\n",
        "\r\n",
        "#visualize again\r\n",
        "plt.figure(figsize=(12,4))\r\n",
        "plt.plot(filtered)\r\n",
        "plt.show()\r\n",
        "\r\n",
        "#and zoom in a bit\r\n",
        "plt.figure(figsize=(12,4))\r\n",
        "plt.plot(data[0:2500], label = 'original signal')\r\n",
        "plt.plot(filtered[0:2500], alpha=0.5, label = 'filtered signal')\r\n",
        "plt.legend()\r\n",
        "plt.show()"
      ],
      "execution_count": null,
      "outputs": []
    },
    {
      "cell_type": "markdown",
      "metadata": {
        "id": "iVnBXaJ8cRhZ"
      },
      "source": [
        "The amplitude of the T-wave is reduced."
      ]
    },
    {
      "cell_type": "code",
      "metadata": {
        "id": "8m9Ibzz7iBwX"
      },
      "source": [
        "#run analysis\r\n",
        "wd, m = hp.process(hp.scale_data(filtered), sample_rate)\r\n",
        "\r\n",
        "#visualise in plot of custom size\r\n",
        "plt.figure(figsize=(12,4))\r\n",
        "hp.plotter(wd, m)\r\n",
        "\r\n",
        "#display computed measures\r\n",
        "for measure in m.keys():\r\n",
        "    print('%s: %f' %(measure, m[measure]))"
      ],
      "execution_count": null,
      "outputs": []
    },
    {
      "cell_type": "markdown",
      "metadata": {
        "id": "uuCifBOY3l2f"
      },
      "source": [
        "HeartPy is distrusting some peaks. This is because HeartPy's optimizer likes broader peaks than some ECG recordings provide (especially lower sampling rates). Usually when filtering the peak width decreases as well, potentially causing issues.\r\n",
        "\r\n",
        "We can solve this by upsampling the signal using **scipy.signal.resample**.\r\n",
        "\r\n"
      ]
    },
    {
      "cell_type": "code",
      "metadata": {
        "id": "W7xsJRguiE6s"
      },
      "source": [
        "from scipy.signal import resample\r\n",
        "\r\n",
        "#resample the data. Usually 2, 4, or 6 times is enough depending on original sampling rate\r\n",
        "resampled_data = resample(filtered, len(filtered) * 2)\r\n",
        "\r\n",
        "#And run the analysis again. Don't forget to up the sample rate as well!\r\n",
        "wd, m = hp.process(hp.scale_data(resampled_data), sample_rate * 2)\r\n",
        "\r\n",
        "#visualise in plot of custom size\r\n",
        "plt.figure(figsize=(12,4))\r\n",
        "hp.plotter(wd, m)\r\n",
        "\r\n",
        "#display computed measures\r\n",
        "for measure in m.keys():\r\n",
        "    print('%s: %f' %(measure, m[measure]))"
      ],
      "execution_count": null,
      "outputs": []
    },
    {
      "cell_type": "markdown",
      "metadata": {
        "id": "7QVcnv32CYHn"
      },
      "source": [
        "Upsampling the signal has enabled HeartPy to optimize and find the position for all peaks in the signal.\r\n",
        "\r\n",
        "Note: It is recommended to use **hp.scale_data()** in the processing function, when the amplitude is low (2.4-3.8 in the original data)."
      ]
    },
    {
      "cell_type": "code",
      "metadata": {
        "id": "kqxz4mY3CSeQ"
      },
      "source": [
        ""
      ],
      "execution_count": null,
      "outputs": []
    }
  ]
}